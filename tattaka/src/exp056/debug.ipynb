{
 "cells": [
  {
   "cell_type": "code",
   "execution_count": null,
   "metadata": {},
   "outputs": [],
   "source": [
    "import matplotlib.pyplot as plt\n",
    "import numpy as np\n",
    "from train import find_threshold_percentile, fbeta_score, EXP_ID\n",
    "import PIL.Image as Image\n",
    "import cv2 \n",
    "\n",
    "fold = 2\n",
    "logdir = \"resnetrs50_split3d5x7csn_mixup_ep25\"\n",
    "true = np.array(\n",
    "    Image.open(\n",
    "        f\"../../input/vesuvius-challenge-ink-detection-5fold/train/{str(fold + 1)}/inklabels.png\"\n",
    "    ).convert(\"1\")\n",
    ")\n",
    "pred = np.load(f\"../../logs/exp{EXP_ID}/{logdir}/fold{fold}/preds_tta.npy\")\n",
    "# pred_pp = np.load(f\"../../logs/exp{EXP_ID}/{logdir}/fold{fold}/preds_pp.npy\")\n",
    "logit = np.load(f\"../../logs/exp{EXP_ID}/{logdir}/fold{fold}/logits_tta.npy\")\n",
    "plt.subplot(141)\n",
    "plt.axis(\"off\")\n",
    "plt.imshow(true)\n",
    "plt.subplot(142)\n",
    "plt.axis(\"off\")\n",
    "plt.imshow(pred)\n",
    "# plt.subplot(143)\n",
    "# plt.axis(\"off\")\n",
    "# plt.imshow(pred_pp)\n",
    "plt.subplot(144)\n",
    "plt.axis(\"off\")\n",
    "plt.imshow(logit, vmin=0., vmax=1.0)\n",
    "# fbeta_score(true, pred, use_mask=np.ones_like(pred))"
   ]
  },
  {
   "cell_type": "code",
   "execution_count": null,
   "metadata": {},
   "outputs": [],
   "source": [
    "def delete_min_area(y_pred: np.ndarray, t: float):\n",
    "    num_component, component = cv2.connectedComponents(y_pred.astype(np.uint8))\n",
    "    size_list = np.array([(c == component) for c in range(1, num_component)])\n",
    "    size_sum = size_list.sum((1, 2))\n",
    "    min_size = np.quantile(size_sum, np.clip(t, 0, 1))\n",
    "    y_pred = size_list[size_sum > min_size].sum(0)\n",
    "    return y_pred, min_size\n",
    "\n",
    "fold = 0\n",
    "logdirs = [\n",
    "    \"resnetrs50_split3d5x7csn_mixup_ep30\", \n",
    "    \"resnetrs50_split3d3x9csn_l6_mixup_ep30\",\n",
    "    \"convnext_tiny_split3d5x7csn_mixup_ep30\",\n",
    "    \"convnext_tiny_split3d3x9csn_l6_mixup_ep30\",\n",
    "    \"swinv2_tiny_window8_256_split3d5x7csn_mixup_ep30\",\n",
    "    # \"swinv2_tiny_window8_256_split3d3x9csn_l6_mixup_ep30\"\n",
    "    ]\n",
    "true = np.array(\n",
    "    Image.open(\n",
    "        f\"../../input/vesuvius-challenge-ink-detection-5fold/train/{str(fold + 1)}/inklabels.png\"\n",
    "    ).convert(\"1\")\n",
    ")\n",
    "mask = np.array(\n",
    "    Image.open(\n",
    "        f\"../../input/vesuvius-challenge-ink-detection-5fold/train/{str(fold + 1)}/mask.png\"\n",
    "    ).convert(\"1\")\n",
    ") > 0\n",
    "logit = np.stack([np.load(f\"../../logs/exp{EXP_ID}/{logdir}/fold{fold}/logits_tta.npy\") for logdir in logdirs]).mean(0)\n",
    "logit_tmp = logit.reshape(-1)[np.where(mask.reshape(-1))]\n",
    "true_tmp = true.reshape(-1)[np.where(mask.reshape(-1))]\n",
    "threshold = find_threshold_percentile(true_tmp, logit_tmp)\n",
    "# threshold = 0.92\n",
    "pred = logit > np.quantile(logit_tmp, threshold)\n",
    "# pred, _ = delete_min_area(pred, 0.2)\n",
    "score = fbeta_score(true, pred, beta=0.5) \n",
    "plt.subplot(131)\n",
    "plt.axis(\"off\")\n",
    "plt.imshow(true)\n",
    "plt.subplot(132)\n",
    "plt.axis(\"off\")\n",
    "plt.imshow(pred)\n",
    "plt.subplot(133)\n",
    "plt.axis(\"off\")\n",
    "plt.imshow(logit, vmin=0., vmax=1.0)\n",
    "print(f\"score: {score}, threshold: {threshold}({np.quantile(logit_tmp, threshold)})\")"
   ]
  },
  {
   "cell_type": "code",
   "execution_count": null,
   "metadata": {},
   "outputs": [],
   "source": [
    "from train import PatchDataset\n",
    "from glob import glob\n",
    "fragment_id = 1\n",
    "valid_volume_paths = np.asarray(\n",
    "    sorted(\n",
    "        glob(\n",
    "            f\"../../input/vesuvius_patches_32_5fold/train/{fragment_id}/surface_volume/**/*.npy\",\n",
    "            recursive=True,\n",
    "        )\n",
    "    )\n",
    ")\n"
   ]
  },
  {
   "cell_type": "code",
   "execution_count": null,
   "metadata": {},
   "outputs": [],
   "source": []
  }
 ],
 "metadata": {
  "kernelspec": {
   "display_name": "base",
   "language": "python",
   "name": "python3"
  },
  "language_info": {
   "codemirror_mode": {
    "name": "ipython",
    "version": 3
   },
   "file_extension": ".py",
   "mimetype": "text/x-python",
   "name": "python",
   "nbconvert_exporter": "python",
   "pygments_lexer": "ipython3",
   "version": "3.7.12"
  },
  "orig_nbformat": 4,
  "vscode": {
   "interpreter": {
    "hash": "d4d1e4263499bec80672ea0156c357c1ee493ec2b1c70f0acce89fc37c4a6abe"
   }
  }
 },
 "nbformat": 4,
 "nbformat_minor": 2
}
