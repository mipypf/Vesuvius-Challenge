{
 "cells": [
  {
   "cell_type": "code",
   "execution_count": null,
   "metadata": {},
   "outputs": [],
   "source": [
    "import matplotlib.pyplot as plt\n",
    "import numpy as np\n",
    "\n",
    "def dice(mask1, mask2, use_mask):\n",
    "    mask1 = mask1 * use_mask\n",
    "    mask2 = mask2 * use_mask\n",
    "    intersection = 2.0 * (mask1 * mask2).sum()\n",
    "    union = mask1.sum() + mask2.sum()\n",
    "    if mask1.sum() == 0 and mask2.sum() == 0:\n",
    "        return 1.0\n",
    "\n",
    "    return intersection / union\n",
    "\n",
    "y_valid = np.load(\"../../logs/exp007/resnetrs50_split_mixup/fold2/debug_y_valid.npy\")\n",
    "p_valid = np.load(\"../../logs/exp007/resnetrs50_split_mixup/fold2/debug_p_valid.npy\")\n",
    "plt.imshow(y_valid)\n",
    "plt.show()\n",
    "plt.imshow(p_valid)\n",
    "dice(y_valid, p_valid, use_mask=np.ones_like(p_valid))"
   ]
  },
  {
   "cell_type": "code",
   "execution_count": null,
   "metadata": {},
   "outputs": [],
   "source": []
  },
  {
   "cell_type": "code",
   "execution_count": null,
   "metadata": {},
   "outputs": [],
   "source": []
  }
 ],
 "metadata": {
  "kernelspec": {
   "display_name": "base",
   "language": "python",
   "name": "python3"
  },
  "language_info": {
   "codemirror_mode": {
    "name": "ipython",
    "version": 3
   },
   "file_extension": ".py",
   "mimetype": "text/x-python",
   "name": "python",
   "nbconvert_exporter": "python",
   "pygments_lexer": "ipython3",
   "version": "3.7.12"
  },
  "orig_nbformat": 4,
  "vscode": {
   "interpreter": {
    "hash": "d4d1e4263499bec80672ea0156c357c1ee493ec2b1c70f0acce89fc37c4a6abe"
   }
  }
 },
 "nbformat": 4,
 "nbformat_minor": 2
}
