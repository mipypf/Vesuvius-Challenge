{
 "cells": [
  {
   "cell_type": "code",
   "execution_count": 2,
   "metadata": {},
   "outputs": [
    {
     "data": {
      "text/plain": [
       "<matplotlib.image.AxesImage at 0x7f3b2a80b2d0>"
      ]
     },
     "execution_count": 2,
     "metadata": {},
     "output_type": "execute_result"
    }
   ],
   "source": [
    "import matplotlib.pyplot as plt\n",
    "import numpy as np\n",
    "from train import find_threshold_percentile, fbeta_score, EXP_ID\n",
    "fold = 1\n",
    "logdir = \"resnetrs50_split3d7x7csn_mixup\"\n",
    "true = np.load(f\"../../logs/exp{EXP_ID}/{logdir}/fold{fold}/true.npy\")\n",
    "pred = np.load(f\"../../logs/exp{EXP_ID}/{logdir}/fold{fold}/preds.npy\")\n",
    "logit = np.load(f\"../../logs/exp{EXP_ID}/{logdir}/fold{fold}/logits.npy\")\n",
    "plt.subplot(131)\n",
    "plt.axis(\"off\")\n",
    "plt.imshow(true)\n",
    "plt.subplot(132)\n",
    "plt.axis(\"off\")\n",
    "plt.imshow(pred)\n",
    "plt.subplot(133)\n",
    "plt.axis(\"off\")\n",
    "plt.imshow(logit)\n",
    "# fbeta_score(true, pred, use_mask=np.ones_like(pred))"
   ]
  },
  {
   "cell_type": "code",
   "execution_count": null,
   "metadata": {},
   "outputs": [],
   "source": [
    "from train import PatchDataset\n",
    "from glob import glob\n",
    "fragment_id = 1\n",
    "valid_volume_paths = np.asarray(\n",
    "    sorted(\n",
    "        glob(\n",
    "            f\"../../input/vesuvius_patches_32_5fold/train/{fragment_id}/surface_volume/**/*.npy\",\n",
    "            recursive=True,\n",
    "        )\n",
    "    )\n",
    ")\n"
   ]
  },
  {
   "cell_type": "code",
   "execution_count": null,
   "metadata": {},
   "outputs": [],
   "source": []
  }
 ],
 "metadata": {
  "kernelspec": {
   "display_name": "base",
   "language": "python",
   "name": "python3"
  },
  "language_info": {
   "codemirror_mode": {
    "name": "ipython",
    "version": 3
   },
   "file_extension": ".py",
   "mimetype": "text/x-python",
   "name": "python",
   "nbconvert_exporter": "python",
   "pygments_lexer": "ipython3",
   "version": "3.7.12"
  },
  "orig_nbformat": 4,
  "vscode": {
   "interpreter": {
    "hash": "d4d1e4263499bec80672ea0156c357c1ee493ec2b1c70f0acce89fc37c4a6abe"
   }
  }
 },
 "nbformat": 4,
 "nbformat_minor": 2
}
