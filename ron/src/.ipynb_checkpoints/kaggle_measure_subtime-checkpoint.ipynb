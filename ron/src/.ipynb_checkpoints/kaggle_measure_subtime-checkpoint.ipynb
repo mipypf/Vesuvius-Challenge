{
 "cells": [
  {
   "cell_type": "code",
   "execution_count": null,
   "id": "4d5014f6-8231-4990-93f0-05aafef5c7f9",
   "metadata": {
    "tags": []
   },
   "outputs": [],
   "source": [
    "import os\n",
    "import json\n",
    "f = open(\"C:\\\\Users\\\\watar\\\\Kaggle\\\\kaggle.json\", \"r\")#kaggle.jsonが保存してあるパスを指定\n",
    "json_data = json.load(f)\n",
    "os.environ['KAGGLE_USERNAME'] = json_data['username']\n",
    "os.environ['KAGGLE_KEY'] = json_data['key']"
   ]
  },
  {
   "cell_type": "code",
   "execution_count": null,
   "id": "5af6454d-8c80-428e-8063-c9bac2b215f2",
   "metadata": {
    "tags": []
   },
   "outputs": [],
   "source": [
    "from kaggle.api.kaggle_api_extended import KaggleApi\n",
    "import datetime\n",
    "from datetime import timezone\n",
    "import time"
   ]
  },
  {
   "cell_type": "code",
   "execution_count": null,
   "id": "dfc05e2b-2ea0-4618-8187-d797c3f018f4",
   "metadata": {},
   "outputs": [],
   "source": [
    "api = KaggleApi()\n",
    "api.authenticate()\n",
    "\n",
    "COMPETITION =  'vesuvius-challenge-ink-detection'\n",
    "result_ = api.competition_submissions(COMPETITION)[0]\n",
    "latest_ref = str(result_)  # 最新のサブミット番号\n",
    "submit_time = result_.date\n",
    "\n",
    "status = ''\n",
    "\n",
    "while status != 'complete':\n",
    "    list_of_submission = api.competition_submissions(COMPETITION)\n",
    "    for result in list_of_submission:\n",
    "        if str(result.ref) == latest_ref:\n",
    "            break\n",
    "    status = result.status\n",
    "\n",
    "    now = datetime.datetime.now(timezone.utc).replace(tzinfo=None)\n",
    "    elapsed_time = int((now - submit_time).seconds / 60) + 1\n",
    "    if status == 'complete':\n",
    "        print('\\r', f'run-time: {elapsed_time} min, LB: {result.publicScore}')\n",
    "    else:\n",
    "        print('\\r', f'elapsed time: {elapsed_time} min', end='')\n",
    "        time.sleep(600)"
   ]
  },
  {
   "cell_type": "code",
   "execution_count": null,
   "id": "122d16f8-f179-45c6-9703-0901a787ff8f",
   "metadata": {},
   "outputs": [],
   "source": []
  },
  {
   "cell_type": "code",
   "execution_count": null,
   "id": "968e402e-c429-4068-aa19-76df6c743714",
   "metadata": {},
   "outputs": [],
   "source": []
  },
  {
   "cell_type": "code",
   "execution_count": null,
   "id": "53cc06f7-9dba-4697-8789-8a80117c4c90",
   "metadata": {},
   "outputs": [],
   "source": []
  }
 ],
 "metadata": {
  "kernelspec": {
   "display_name": "Python 3 (ipykernel)",
   "language": "python",
   "name": "python3"
  },
  "language_info": {
   "codemirror_mode": {
    "name": "ipython",
    "version": 3
   },
   "file_extension": ".py",
   "mimetype": "text/x-python",
   "name": "python",
   "nbconvert_exporter": "python",
   "pygments_lexer": "ipython3",
   "version": "3.10.10"
  }
 },
 "nbformat": 4,
 "nbformat_minor": 5
}
