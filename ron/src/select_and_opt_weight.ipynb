{
 "cells": [
  {
   "cell_type": "markdown",
   "id": "2b6dfb0b",
   "metadata": {
    "papermill": {
     "duration": 0.027114,
     "end_time": "2022-06-01T01:50:00.797480",
     "exception": false,
     "start_time": "2022-06-01T01:50:00.770366",
     "status": "completed"
    },
    "tags": []
   },
   "source": [
    "# Directory settings"
   ]
  },
  {
   "cell_type": "code",
   "execution_count": null,
   "id": "d68edf30",
   "metadata": {
    "id": "fa3b873b",
    "papermill": {
     "duration": 0.041629,
     "end_time": "2022-06-01T01:50:00.865250",
     "exception": false,
     "start_time": "2022-06-01T01:50:00.823621",
     "status": "completed"
    },
    "tags": []
   },
   "outputs": [],
   "source": [
    "# ====================================================\n",
    "# Directory settings\n",
    "# ====================================================\n",
    "import os\n",
    "\n",
    "INPUT_DIR = '../input/vesuvius-challenge-ink-detection/'\n",
    "OUTPUT_DIR = './'\n",
    "if not os.path.exists(OUTPUT_DIR):\n",
    "    os.makedirs(OUTPUT_DIR)"
   ]
  },
  {
   "cell_type": "markdown",
   "id": "a1e69baf",
   "metadata": {
    "id": "f2ed8ef2",
    "papermill": {
     "duration": 0.026016,
     "end_time": "2022-06-01T01:50:00.918145",
     "exception": false,
     "start_time": "2022-06-01T01:50:00.892129",
     "status": "completed"
    },
    "tags": []
   },
   "source": [
    "# Library"
   ]
  },
  {
   "cell_type": "code",
   "execution_count": null,
   "id": "5729eb6a",
   "metadata": {
    "executionInfo": {
     "elapsed": 20123,
     "status": "ok",
     "timestamp": 1644920080956,
     "user": {
      "displayName": "Yasufumi Nakama",
      "photoUrl": "https://lh3.googleusercontent.com/a/default-user=s64",
      "userId": "17486303986134302670"
     },
     "user_tz": -540
    },
    "id": "35916341",
    "outputId": "06fa0ab8-a380-4f54-a98d-b7015b79d9e2",
    "papermill": {
     "duration": 2.623141,
     "end_time": "2022-06-01T01:50:03.566696",
     "exception": false,
     "start_time": "2022-06-01T01:50:00.943555",
     "status": "completed"
    },
    "tags": []
   },
   "outputs": [],
   "source": [
    "# ====================================================\n",
    "# Library\n",
    "# ====================================================\n",
    "import os\n",
    "import gc\n",
    "import re\n",
    "import ast\n",
    "import sys\n",
    "import copy\n",
    "import json\n",
    "import time\n",
    "import math\n",
    "import shutil\n",
    "import string\n",
    "import pickle\n",
    "import random\n",
    "import joblib\n",
    "import itertools\n",
    "from pathlib import Path\n",
    "import warnings\n",
    "warnings.filterwarnings(\"ignore\")\n",
    "\n",
    "import scipy as sp\n",
    "import numpy as np\n",
    "import pandas as pd\n",
    "pd.set_option('display.max_rows', 500)\n",
    "pd.set_option('display.max_columns', 500)\n",
    "pd.set_option('display.width', 1000)\n",
    "from tqdm.auto import tqdm\n",
    "from sklearn.metrics import f1_score\n",
    "from sklearn.model_selection import StratifiedKFold, GroupKFold, KFold\n",
    "import itertools\n",
    "import more_itertools\n",
    "\n",
    "import torch\n",
    "print(f\"torch.__version__: {torch.__version__}\")\n",
    "import torch.nn as nn\n",
    "from torch.nn import Parameter\n",
    "import torch.nn.functional as F\n",
    "from torch.optim import Adam, SGD, AdamW\n",
    "from torch.utils.data import DataLoader, Dataset\n",
    "\n",
    "device = torch.device('cuda' if torch.cuda.is_available() else 'cpu')\n",
    "import joblib"
   ]
  },
  {
   "cell_type": "markdown",
   "id": "3090cddb",
   "metadata": {
    "id": "fd586614",
    "papermill": {
     "duration": 0.02504,
     "end_time": "2022-06-01T01:50:03.618995",
     "exception": false,
     "start_time": "2022-06-01T01:50:03.593955",
     "status": "completed"
    },
    "tags": []
   },
   "source": [
    "# Utils"
   ]
  },
  {
   "cell_type": "code",
   "execution_count": null,
   "id": "8680fb17",
   "metadata": {
    "id": "d5c0ccc6",
    "papermill": {
     "duration": 0.044217,
     "end_time": "2022-06-01T01:50:03.688617",
     "exception": false,
     "start_time": "2022-06-01T01:50:03.644400",
     "status": "completed"
    },
    "tags": []
   },
   "outputs": [],
   "source": [
    "# ====================================================\n",
    "# Utils\n",
    "# ====================================================\n",
    "def get_score(y_true, y_pred):\n",
    "    score = sp.stats.pearsonr(y_true, y_pred)[0]\n",
    "    return score\n",
    "\n",
    "\n",
    "def get_logger(filename=OUTPUT_DIR+'train'):\n",
    "    from logging import getLogger, INFO, StreamHandler, FileHandler, Formatter\n",
    "    logger = getLogger(__name__)\n",
    "    logger.setLevel(INFO)\n",
    "    handler1 = StreamHandler()\n",
    "    handler1.setFormatter(Formatter(\"%(message)s\"))\n",
    "    handler2 = FileHandler(filename=f\"{filename}.log\")\n",
    "    handler2.setFormatter(Formatter(\"%(message)s\"))\n",
    "    logger.addHandler(handler1)\n",
    "    logger.addHandler(handler2)\n",
    "    return logger\n",
    "\n",
    "LOGGER = get_logger()\n",
    "\n",
    "def seed_everything(seed=42):\n",
    "    random.seed(seed)\n",
    "    os.environ['PYTHONHASHSEED'] = str(seed)\n",
    "    np.random.seed(seed)\n",
    "    torch.manual_seed(seed)\n",
    "    torch.cuda.manual_seed(seed)\n",
    "    torch.backends.cudnn.deterministic = True\n",
    "    \n",
    "seed_everything(seed=42)"
   ]
  },
  {
   "cell_type": "markdown",
   "id": "b772b4a1",
   "metadata": {
    "papermill": {
     "duration": 0.025316,
     "end_time": "2022-06-01T01:50:03.741236",
     "exception": false,
     "start_time": "2022-06-01T01:50:03.715920",
     "status": "completed"
    },
    "tags": []
   },
   "source": [
    "# OOF"
   ]
  },
  {
   "cell_type": "markdown",
   "id": "750da6b8",
   "metadata": {
    "papermill": {
     "duration": 0.02488,
     "end_time": "2022-06-01T01:50:03.791641",
     "exception": false,
     "start_time": "2022-06-01T01:50:03.766761",
     "status": "completed"
    },
    "tags": []
   },
   "source": [
    "# 使い方　OOF_FILE_LISTにoof.csv.pklを追加するとlist内の全ての組み合わせでweightoptimして最もいい組み合わせを探索\n"
   ]
  },
  {
   "cell_type": "code",
   "execution_count": null,
   "id": "1b4619f4",
   "metadata": {
    "papermill": {
     "duration": 0.035776,
     "end_time": "2022-06-01T01:50:03.854075",
     "exception": false,
     "start_time": "2022-06-01T01:50:03.818299",
     "status": "completed"
    },
    "tags": []
   },
   "outputs": [],
   "source": [
    "OOF_FILE_LIST = []"
   ]
  },
  {
   "cell_type": "code",
   "execution_count": null,
   "id": "68967351",
   "metadata": {
    "papermill": {
     "duration": 0.041644,
     "end_time": "2022-06-01T01:50:03.921271",
     "exception": false,
     "start_time": "2022-06-01T01:50:03.879627",
     "status": "completed"
    },
    "tags": []
   },
   "outputs": [],
   "source": [
    "def oof_concat(OOF_FILE_LIST):\n",
    "    oof_concat_df = pd.DataFrame()\n",
    "    for idx, filename in enumerate(OOF_FILE_LIST):\n",
    "        print(filename)\n",
    "        print(filename[-4:])\n",
    "        if len(oof_concat_df) == 0:\n",
    "            if filename[-4:] == \".pkl\":\n",
    "                oof_df = pd.read_pickle(filename)\n",
    "            else:\n",
    "                oof_df = pd.read_csv(filename)\n",
    "            col_name = \"pred_\" + str(idx)\n",
    "            #oof_df = oof_df.drop([\"anchor\",\"target\",\"context\",\"context_text\",\"text\"], axis=1)\n",
    "            oof_df = oof_df.rename(columns={'pred': col_name})\n",
    "            oof_concat_df = oof_df\n",
    "        else:\n",
    "            if filename[-4:] == \".pkl\":\n",
    "                oof_df = pd.read_pickle(filename)\n",
    "            else:\n",
    "                oof_df = pd.read_csv(filename)\n",
    "                oof_df = oof_df.drop(\"Unnamed: 0\", axis=1)\n",
    "            col_name = \"pred_\" + str(idx)\n",
    "            #oof_df = oof_df.drop([\"anchor\",\"target\",\"context\",\"context_text\",\"text\",\"fold\",\"score\"], axis=1)\n",
    "            oof_df = oof_df.rename(columns={'pred': col_name})\n",
    "            oof_concat_df = pd.merge(oof_concat_df,oof_df)\n",
    "    return oof_concat_df"
   ]
  },
  {
   "cell_type": "code",
   "execution_count": null,
   "id": "72b2afb4",
   "metadata": {
    "papermill": {
     "duration": 2.16814,
     "end_time": "2022-06-01T01:50:06.115465",
     "exception": false,
     "start_time": "2022-06-01T01:50:03.947325",
     "status": "completed"
    },
    "tags": []
   },
   "outputs": [],
   "source": [
    "oof_df = oof_concat(OOF_FILE_LIST)"
   ]
  },
  {
   "cell_type": "code",
   "execution_count": null,
   "id": "de007931",
   "metadata": {
    "papermill": {
     "duration": 0.039236,
     "end_time": "2022-06-01T01:50:06.185069",
     "exception": false,
     "start_time": "2022-06-01T01:50:06.145833",
     "status": "completed"
    },
    "tags": []
   },
   "outputs": [],
   "source": [
    "def calc_prediction_org(df, weights):\n",
    "    oof_df[\"pred_org\"] = 0\n",
    "    for idx, weight in enumerate(weights):\n",
    "        col_name = \"pred_\" + str(idx)\n",
    "        oof_df[\"pred_org\"] += weight*df[col_name]\n",
    "    oof_df[\"pred_org\"] = oof_df[\"pred_org\"]/len(weights)\n",
    "    return oof_df"
   ]
  },
  {
   "cell_type": "code",
   "execution_count": null,
   "id": "0902f5a9",
   "metadata": {
    "papermill": {
     "duration": 0.037918,
     "end_time": "2022-06-01T01:50:06.251969",
     "exception": false,
     "start_time": "2022-06-01T01:50:06.214051",
     "status": "completed"
    },
    "tags": []
   },
   "outputs": [],
   "source": [
    "def calc_prediction(df, weights):\n",
    "    oof_df[\"pred\"] = 0\n",
    "    for idx, weight in enumerate(weights):\n",
    "        col_name = \"pred_\" + str(idx)\n",
    "        oof_df[\"pred\"] += weight*df[col_name]\n",
    "    oof_df[\"pred\"] = oof_df[\"pred\"]/sum(weights)\n",
    "    return oof_df"
   ]
  },
  {
   "cell_type": "code",
   "execution_count": null,
   "id": "13c2eae6",
   "metadata": {
    "papermill": {
     "duration": 0.046678,
     "end_time": "2022-06-01T01:50:06.327207",
     "exception": false,
     "start_time": "2022-06-01T01:50:06.280529",
     "status": "completed"
    },
    "tags": []
   },
   "outputs": [],
   "source": [
    "weights = [1.0]*len(OOF_FILE_LIST)\n",
    "oof_df = calc_prediction_org(oof_df, weights)"
   ]
  },
  {
   "cell_type": "code",
   "execution_count": null,
   "id": "310b99ec",
   "metadata": {
    "papermill": {
     "duration": 0.049805,
     "end_time": "2022-06-01T01:50:06.405228",
     "exception": false,
     "start_time": "2022-06-01T01:50:06.355423",
     "status": "completed"
    },
    "tags": []
   },
   "outputs": [],
   "source": [
    "get_score(oof_df[\"score\"], oof_df[\"pred_org\"])"
   ]
  },
  {
   "cell_type": "code",
   "execution_count": null,
   "id": "ca3a3f8a",
   "metadata": {
    "papermill": {
     "duration": 0.972243,
     "end_time": "2022-06-01T01:50:07.430444",
     "exception": false,
     "start_time": "2022-06-01T01:50:06.458201",
     "status": "completed"
    },
    "tags": []
   },
   "outputs": [],
   "source": [
    "import optuna\n",
    "\n",
    "r_min = 0\n",
    "r_max = 1\n",
    "# You can increase iteration number.\n",
    "iteration = 200\n",
    "\n",
    "optuna.logging.disable_default_handler() \n",
    "\n",
    "class Objective:\n",
    "    def __init__(self, weights, ens_pair_df, pairs):\n",
    "        self.weights = np.random.rand(len(weights))\n",
    "        self.ens_pair_df = ens_pair_df\n",
    "        self.pairs = pairs\n",
    "\n",
    "    def __call__(self, trial):\n",
    "        weights = [trial.suggest_uniform('weight' + str(self.pairs[n]), 0, 1) for n in range(len(self.weights))]\n",
    "        pred = calc_prediction_score(self.ens_pair_df, weights, self.pairs)\n",
    "        return get_score(train_labels, pred)"
   ]
  },
  {
   "cell_type": "code",
   "execution_count": null,
   "id": "d32f3074",
   "metadata": {
    "papermill": {
     "duration": 0.043214,
     "end_time": "2022-06-01T01:50:07.504537",
     "exception": false,
     "start_time": "2022-06-01T01:50:07.461323",
     "status": "completed"
    },
    "tags": []
   },
   "outputs": [],
   "source": [
    "def optim(weights, ens_pair_df, pairs,objective):\n",
    "    #objective = Objective(weights, ens_pair_df, pairs)\n",
    "    SEED = 1234\n",
    "    study = optuna.create_study(direction='maximize', sampler=optuna.samplers.TPESampler(seed=SEED))\n",
    "    study.optimize(objective, n_trials=iteration)\n",
    "    \n",
    "    return study.best_params"
   ]
  },
  {
   "cell_type": "code",
   "execution_count": null,
   "id": "b55ef329",
   "metadata": {
    "papermill": {
     "duration": 0.039086,
     "end_time": "2022-06-01T01:50:07.572151",
     "exception": false,
     "start_time": "2022-06-01T01:50:07.533065",
     "status": "completed"
    },
    "tags": []
   },
   "outputs": [],
   "source": [
    "def calc_prediction_score(df, weights, pairs):\n",
    "    oof_df[\"pred\"] = 0\n",
    "    for idx, weight in enumerate(weights):\n",
    "        col_name = \"pred_\" + str(pairs[idx])\n",
    "        oof_df[\"pred\"] += weight*df[col_name]\n",
    "    oof_df[\"pred\"] = oof_df[\"pred\"]/sum(weights)\n",
    "    return oof_df[\"pred\"]"
   ]
  },
  {
   "cell_type": "code",
   "execution_count": null,
   "id": "89641eb7",
   "metadata": {
    "papermill": {
     "duration": 0.038521,
     "end_time": "2022-06-01T01:50:07.639508",
     "exception": false,
     "start_time": "2022-06-01T01:50:07.600987",
     "status": "completed"
    },
    "tags": []
   },
   "outputs": [],
   "source": [
    "def calc_prediction_score(df, weights, pairs):\n",
    "    oof_df[\"pred\"] = 0\n",
    "    for idx, weight in enumerate(weights):\n",
    "        col_name = \"pred_\" + str(pairs[idx])\n",
    "        oof_df[\"pred\"] += weight*df[col_name]\n",
    "    oof_df[\"pred\"] = oof_df[\"pred\"]/sum(weights)\n",
    "    return oof_df[\"pred\"]"
   ]
  },
  {
   "cell_type": "code",
   "execution_count": null,
   "id": "e63b7268",
   "metadata": {
    "papermill": {
     "duration": 0.038673,
     "end_time": "2022-06-01T01:50:07.707386",
     "exception": false,
     "start_time": "2022-06-01T01:50:07.668713",
     "status": "completed"
    },
    "tags": []
   },
   "outputs": [],
   "source": [
    "models_list = [x for x in range(0, len(OOF_FILE_LIST))]\n",
    "pair_list = [s for s in more_itertools.powerset(models_list) if len(s) >= 7]\n",
    "\n",
    "train_labels = oof_df[\"score\"]\n",
    "ens_pair_df = pd.DataFrame()\n",
    "oof_score = []\n",
    "oof_ens_weights = []"
   ]
  },
  {
   "cell_type": "code",
   "execution_count": null,
   "id": "4d2d5cf3",
   "metadata": {
    "papermill": {
     "duration": 0.035986,
     "end_time": "2022-06-01T01:50:07.772439",
     "exception": false,
     "start_time": "2022-06-01T01:50:07.736453",
     "status": "completed"
    },
    "tags": []
   },
   "outputs": [],
   "source": [
    "from concurrent import futures\n",
    "import time"
   ]
  },
  {
   "cell_type": "code",
   "execution_count": null,
   "id": "a577f42d",
   "metadata": {
    "papermill": {
     "duration": 14846.254979,
     "end_time": "2022-06-01T05:57:34.055893",
     "exception": false,
     "start_time": "2022-06-01T01:50:07.800914",
     "status": "completed"
    },
    "tags": []
   },
   "outputs": [],
   "source": [
    "%%time\n",
    "for counts ,pairs in tqdm(enumerate(pair_list)):\n",
    "    pair_counts = len(pairs)\n",
    "    with futures.ThreadPoolExecutor(max_workers=4) as executor:\n",
    "        for model_no in range(0,len(pairs)):\n",
    "            col_name = \"pred_\" + str(pairs[model_no])\n",
    "            ens_pair_df = pd.concat([ens_pair_df, oof_df[col_name]], axis=1)\n",
    "\n",
    "        weights = [1.0]*len(pairs)\n",
    "        objective = Objective(weights, ens_pair_df, pairs)\n",
    "        future = executor.submit(optim, weights, ens_pair_df, pairs,objective)\n",
    "        oof_ens_weights.append(future.result())\n",
    "        weight_ens_pred = calc_prediction_score(oof_df, list(oof_ens_weights[counts].values()),pairs)\n",
    "        weight_ens_pred_norm = weight_ens_pred/max(weight_ens_pred)\n",
    "\n",
    "        oof_score.append(get_score(train_labels, weight_ens_pred_norm))\n",
    "\n",
    "        ens_pair_df = pd.DataFrame()\n",
    "        del objective"
   ]
  },
  {
   "cell_type": "code",
   "execution_count": null,
   "id": "01f922b9",
   "metadata": {
    "papermill": {
     "duration": 0.193386,
     "end_time": "2022-06-01T05:57:34.298691",
     "exception": false,
     "start_time": "2022-06-01T05:57:34.105305",
     "status": "completed"
    },
    "tags": []
   },
   "outputs": [],
   "source": [
    "oof_ens_weights"
   ]
  },
  {
   "cell_type": "code",
   "execution_count": null,
   "id": "ad9dd4a9",
   "metadata": {
    "papermill": {
     "duration": 0.059559,
     "end_time": "2022-06-01T05:57:34.395135",
     "exception": false,
     "start_time": "2022-06-01T05:57:34.335576",
     "status": "completed"
    },
    "tags": []
   },
   "outputs": [],
   "source": [
    "oof_score"
   ]
  },
  {
   "cell_type": "code",
   "execution_count": null,
   "id": "603bbd90",
   "metadata": {
    "papermill": {
     "duration": 0.048841,
     "end_time": "2022-06-01T05:57:34.482472",
     "exception": false,
     "start_time": "2022-06-01T05:57:34.433631",
     "status": "completed"
    },
    "tags": []
   },
   "outputs": [],
   "source": [
    "print(f\"best CV : {max(oof_score)}\")"
   ]
  },
  {
   "cell_type": "code",
   "execution_count": null,
   "id": "d91482f7",
   "metadata": {
    "papermill": {
     "duration": 0.045882,
     "end_time": "2022-06-01T05:57:34.566631",
     "exception": false,
     "start_time": "2022-06-01T05:57:34.520749",
     "status": "completed"
    },
    "tags": []
   },
   "outputs": [],
   "source": [
    "print(f\"best CVmodel & Weights{oof_ens_weights[oof_score.index(max(oof_score))]}\")"
   ]
  }
 ],
 "metadata": {
  "kernelspec": {
   "display_name": "Python 3 (ipykernel)",
   "language": "python",
   "name": "python3"
  },
  "language_info": {
   "codemirror_mode": {
    "name": "ipython",
    "version": 3
   },
   "file_extension": ".py",
   "mimetype": "text/x-python",
   "name": "python",
   "nbconvert_exporter": "python",
   "pygments_lexer": "ipython3",
   "version": "3.10.10"
  },
  "papermill": {
   "default_parameters": {},
   "duration": 14865.995021,
   "end_time": "2022-06-01T05:57:35.849343",
   "environment_variables": {},
   "exception": null,
   "input_path": "__notebook__.ipynb",
   "output_path": "__notebook__.ipynb",
   "parameters": {},
   "start_time": "2022-06-01T01:49:49.854322",
   "version": "2.3.3"
  },
  "widgets": {
   "application/vnd.jupyter.widget-state+json": {
    "state": {
     "07fbef0a545c4eab89d64ceddebe677c": {
      "model_module": "@jupyter-widgets/controls",
      "model_module_version": "1.5.0",
      "model_name": "DescriptionStyleModel",
      "state": {
       "_model_module": "@jupyter-widgets/controls",
       "_model_module_version": "1.5.0",
       "_model_name": "DescriptionStyleModel",
       "_view_count": null,
       "_view_module": "@jupyter-widgets/base",
       "_view_module_version": "1.2.0",
       "_view_name": "StyleView",
       "description_width": ""
      }
     },
     "0ea17944640e4873a01b79c11c5949a7": {
      "model_module": "@jupyter-widgets/base",
      "model_module_version": "1.2.0",
      "model_name": "LayoutModel",
      "state": {
       "_model_module": "@jupyter-widgets/base",
       "_model_module_version": "1.2.0",
       "_model_name": "LayoutModel",
       "_view_count": null,
       "_view_module": "@jupyter-widgets/base",
       "_view_module_version": "1.2.0",
       "_view_name": "LayoutView",
       "align_content": null,
       "align_items": null,
       "align_self": null,
       "border": null,
       "bottom": null,
       "display": null,
       "flex": null,
       "flex_flow": null,
       "grid_area": null,
       "grid_auto_columns": null,
       "grid_auto_flow": null,
       "grid_auto_rows": null,
       "grid_column": null,
       "grid_gap": null,
       "grid_row": null,
       "grid_template_areas": null,
       "grid_template_columns": null,
       "grid_template_rows": null,
       "height": null,
       "justify_content": null,
       "justify_items": null,
       "left": null,
       "margin": null,
       "max_height": null,
       "max_width": null,
       "min_height": null,
       "min_width": null,
       "object_fit": null,
       "object_position": null,
       "order": null,
       "overflow": null,
       "overflow_x": null,
       "overflow_y": null,
       "padding": null,
       "right": null,
       "top": null,
       "visibility": null,
       "width": null
      }
     },
     "0fe7f1e6f3644c1e9929486b6c7ef507": {
      "model_module": "@jupyter-widgets/controls",
      "model_module_version": "1.5.0",
      "model_name": "FloatProgressModel",
      "state": {
       "_dom_classes": [],
       "_model_module": "@jupyter-widgets/controls",
       "_model_module_version": "1.5.0",
       "_model_name": "FloatProgressModel",
       "_view_count": null,
       "_view_module": "@jupyter-widgets/controls",
       "_view_module_version": "1.5.0",
       "_view_name": "ProgressView",
       "bar_style": "success",
       "description": "",
       "description_tooltip": null,
       "layout": "IPY_MODEL_2ce399c595bb4ec0800d4e7cdc3371a4",
       "max": 1,
       "min": 0,
       "orientation": "horizontal",
       "style": "IPY_MODEL_377ab230ee9f4bafb44dc08108a49d5d",
       "value": 1
      }
     },
     "2ce399c595bb4ec0800d4e7cdc3371a4": {
      "model_module": "@jupyter-widgets/base",
      "model_module_version": "1.2.0",
      "model_name": "LayoutModel",
      "state": {
       "_model_module": "@jupyter-widgets/base",
       "_model_module_version": "1.2.0",
       "_model_name": "LayoutModel",
       "_view_count": null,
       "_view_module": "@jupyter-widgets/base",
       "_view_module_version": "1.2.0",
       "_view_name": "LayoutView",
       "align_content": null,
       "align_items": null,
       "align_self": null,
       "border": null,
       "bottom": null,
       "display": null,
       "flex": null,
       "flex_flow": null,
       "grid_area": null,
       "grid_auto_columns": null,
       "grid_auto_flow": null,
       "grid_auto_rows": null,
       "grid_column": null,
       "grid_gap": null,
       "grid_row": null,
       "grid_template_areas": null,
       "grid_template_columns": null,
       "grid_template_rows": null,
       "height": null,
       "justify_content": null,
       "justify_items": null,
       "left": null,
       "margin": null,
       "max_height": null,
       "max_width": null,
       "min_height": null,
       "min_width": null,
       "object_fit": null,
       "object_position": null,
       "order": null,
       "overflow": null,
       "overflow_x": null,
       "overflow_y": null,
       "padding": null,
       "right": null,
       "top": null,
       "visibility": null,
       "width": "20px"
      }
     },
     "377ab230ee9f4bafb44dc08108a49d5d": {
      "model_module": "@jupyter-widgets/controls",
      "model_module_version": "1.5.0",
      "model_name": "ProgressStyleModel",
      "state": {
       "_model_module": "@jupyter-widgets/controls",
       "_model_module_version": "1.5.0",
       "_model_name": "ProgressStyleModel",
       "_view_count": null,
       "_view_module": "@jupyter-widgets/base",
       "_view_module_version": "1.2.0",
       "_view_name": "StyleView",
       "bar_color": null,
       "description_width": ""
      }
     },
     "3e24879fe50a49a588e24248e5e83e1b": {
      "model_module": "@jupyter-widgets/base",
      "model_module_version": "1.2.0",
      "model_name": "LayoutModel",
      "state": {
       "_model_module": "@jupyter-widgets/base",
       "_model_module_version": "1.2.0",
       "_model_name": "LayoutModel",
       "_view_count": null,
       "_view_module": "@jupyter-widgets/base",
       "_view_module_version": "1.2.0",
       "_view_name": "LayoutView",
       "align_content": null,
       "align_items": null,
       "align_self": null,
       "border": null,
       "bottom": null,
       "display": null,
       "flex": null,
       "flex_flow": null,
       "grid_area": null,
       "grid_auto_columns": null,
       "grid_auto_flow": null,
       "grid_auto_rows": null,
       "grid_column": null,
       "grid_gap": null,
       "grid_row": null,
       "grid_template_areas": null,
       "grid_template_columns": null,
       "grid_template_rows": null,
       "height": null,
       "justify_content": null,
       "justify_items": null,
       "left": null,
       "margin": null,
       "max_height": null,
       "max_width": null,
       "min_height": null,
       "min_width": null,
       "object_fit": null,
       "object_position": null,
       "order": null,
       "overflow": null,
       "overflow_x": null,
       "overflow_y": null,
       "padding": null,
       "right": null,
       "top": null,
       "visibility": null,
       "width": null
      }
     },
     "76d1030c19014d9c9171bd73ea176c4b": {
      "model_module": "@jupyter-widgets/controls",
      "model_module_version": "1.5.0",
      "model_name": "DescriptionStyleModel",
      "state": {
       "_model_module": "@jupyter-widgets/controls",
       "_model_module_version": "1.5.0",
       "_model_name": "DescriptionStyleModel",
       "_view_count": null,
       "_view_module": "@jupyter-widgets/base",
       "_view_module_version": "1.2.0",
       "_view_name": "StyleView",
       "description_width": ""
      }
     },
     "9011f1156728477dbab565102e47b52e": {
      "model_module": "@jupyter-widgets/controls",
      "model_module_version": "1.5.0",
      "model_name": "HBoxModel",
      "state": {
       "_dom_classes": [],
       "_model_module": "@jupyter-widgets/controls",
       "_model_module_version": "1.5.0",
       "_model_name": "HBoxModel",
       "_view_count": null,
       "_view_module": "@jupyter-widgets/controls",
       "_view_module_version": "1.5.0",
       "_view_name": "HBoxView",
       "box_style": "",
       "children": [
        "IPY_MODEL_a7ef7b5634b243bca44b9a43991b7d62",
        "IPY_MODEL_0fe7f1e6f3644c1e9929486b6c7ef507",
        "IPY_MODEL_9541dce4f6ca464c83b094edf5e6b57a"
       ],
       "layout": "IPY_MODEL_a6cc5cea4410444792a042fbd67799ce"
      }
     },
     "9541dce4f6ca464c83b094edf5e6b57a": {
      "model_module": "@jupyter-widgets/controls",
      "model_module_version": "1.5.0",
      "model_name": "HTMLModel",
      "state": {
       "_dom_classes": [],
       "_model_module": "@jupyter-widgets/controls",
       "_model_module_version": "1.5.0",
       "_model_name": "HTMLModel",
       "_view_count": null,
       "_view_module": "@jupyter-widgets/controls",
       "_view_module_version": "1.5.0",
       "_view_name": "HTMLView",
       "description": "",
       "description_tooltip": null,
       "layout": "IPY_MODEL_3e24879fe50a49a588e24248e5e83e1b",
       "placeholder": "​",
       "style": "IPY_MODEL_07fbef0a545c4eab89d64ceddebe677c",
       "value": " 562/? [4:07:26&lt;00:00, 34.72s/it]"
      }
     },
     "a6cc5cea4410444792a042fbd67799ce": {
      "model_module": "@jupyter-widgets/base",
      "model_module_version": "1.2.0",
      "model_name": "LayoutModel",
      "state": {
       "_model_module": "@jupyter-widgets/base",
       "_model_module_version": "1.2.0",
       "_model_name": "LayoutModel",
       "_view_count": null,
       "_view_module": "@jupyter-widgets/base",
       "_view_module_version": "1.2.0",
       "_view_name": "LayoutView",
       "align_content": null,
       "align_items": null,
       "align_self": null,
       "border": null,
       "bottom": null,
       "display": null,
       "flex": null,
       "flex_flow": null,
       "grid_area": null,
       "grid_auto_columns": null,
       "grid_auto_flow": null,
       "grid_auto_rows": null,
       "grid_column": null,
       "grid_gap": null,
       "grid_row": null,
       "grid_template_areas": null,
       "grid_template_columns": null,
       "grid_template_rows": null,
       "height": null,
       "justify_content": null,
       "justify_items": null,
       "left": null,
       "margin": null,
       "max_height": null,
       "max_width": null,
       "min_height": null,
       "min_width": null,
       "object_fit": null,
       "object_position": null,
       "order": null,
       "overflow": null,
       "overflow_x": null,
       "overflow_y": null,
       "padding": null,
       "right": null,
       "top": null,
       "visibility": null,
       "width": null
      }
     },
     "a7ef7b5634b243bca44b9a43991b7d62": {
      "model_module": "@jupyter-widgets/controls",
      "model_module_version": "1.5.0",
      "model_name": "HTMLModel",
      "state": {
       "_dom_classes": [],
       "_model_module": "@jupyter-widgets/controls",
       "_model_module_version": "1.5.0",
       "_model_name": "HTMLModel",
       "_view_count": null,
       "_view_module": "@jupyter-widgets/controls",
       "_view_module_version": "1.5.0",
       "_view_name": "HTMLView",
       "description": "",
       "description_tooltip": null,
       "layout": "IPY_MODEL_0ea17944640e4873a01b79c11c5949a7",
       "placeholder": "​",
       "style": "IPY_MODEL_76d1030c19014d9c9171bd73ea176c4b",
       "value": ""
      }
     }
    },
    "version_major": 2,
    "version_minor": 0
   }
  }
 },
 "nbformat": 4,
 "nbformat_minor": 5
}
